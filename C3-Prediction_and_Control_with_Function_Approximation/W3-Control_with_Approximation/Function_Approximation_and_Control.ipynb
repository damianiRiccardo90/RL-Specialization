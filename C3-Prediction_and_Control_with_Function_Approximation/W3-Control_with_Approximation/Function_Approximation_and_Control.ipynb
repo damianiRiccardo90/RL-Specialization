{
  "nbformat": 4,
  "nbformat_minor": 0,
  "metadata": {
    "kernelspec": {
      "display_name": "Python 3",
      "language": "python",
      "name": "python3"
    },
    "language_info": {
      "codemirror_mode": {
        "name": "ipython",
        "version": 3
      },
      "file_extension": ".py",
      "mimetype": "text/x-python",
      "name": "python",
      "nbconvert_exporter": "python",
      "pygments_lexer": "ipython3",
      "version": "3.7.6"
    },
    "colab": {
      "name": "Function Approximation and Control.ipynb",
      "provenance": [],
      "include_colab_link": true
    }
  },
  "cells": [
    {
      "cell_type": "markdown",
      "metadata": {
        "id": "view-in-github",
        "colab_type": "text"
      },
      "source": [
        "<a href=\"https://colab.research.google.com/github/damianiRiccardo90/RL-Specialization/blob/master/C3-Prediction_and_Control_with_Function_Approximation/W3-Control_with_Approximation/Function_Approximation_and_Control.ipynb\" target=\"_parent\"><img src=\"https://colab.research.google.com/assets/colab-badge.svg\" alt=\"Open In Colab\"/></a>"
      ]
    },
    {
      "cell_type": "markdown",
      "metadata": {
        "deletable": false,
        "editable": false,
        "nbgrader": {
          "cell_type": "markdown",
          "checksum": "f91befe560efc058705938cd516c0cbf",
          "grade": false,
          "grade_id": "cell-d7aa7f0ccfbe6764",
          "locked": true,
          "schema_version": 3,
          "solution": false,
          "task": false
        },
        "id": "DNO9gHYDf26Z"
      },
      "source": [
        "# Assignment 3: Function Approximation and Control"
      ]
    },
    {
      "cell_type": "markdown",
      "metadata": {
        "deletable": false,
        "editable": false,
        "nbgrader": {
          "cell_type": "markdown",
          "checksum": "8367cb0523270ba9ea53fc9a4e237294",
          "grade": false,
          "grade_id": "cell-4aea2284d1d0ee5b",
          "locked": true,
          "schema_version": 3,
          "solution": false,
          "task": false
        },
        "id": "Wfjq9hLbf27D"
      },
      "source": [
        "Welcome to Assignment 3. In this notebook you will learn how to:\n",
        "- Use function approximation in the control setting\n",
        "- Implement the Sarsa algorithm using tile coding\n",
        "- Compare three settings for tile coding to see their effect on our agent\n",
        "\n",
        "As with the rest of the notebooks do not import additional libraries or adjust grading cells as this will break the grader.\n",
        "\n",
        "MAKE SURE TO RUN ALL OF THE CELLS SO THE GRADER GETS THE OUTPUT IT NEEDS\n"
      ]
    },
    {
      "cell_type": "code",
      "metadata": {
        "id": "FIND03FigVVK"
      },
      "source": [
        "# Clone repository, necessary for importing modules to Colab\n",
        "import os\n",
        "from subprocess import getoutput\n",
        "getoutput(\"git clone -l -s https://github.com/damianiRiccardo90/RL-Specialization RL-Specialization\")\n",
        "os.chdir(\"RL-Specialization/C3-Prediction_and_Control_with_Function_Approximation/W3-Control_with_Approximation\")"
      ],
      "execution_count": 1,
      "outputs": []
    },
    {
      "cell_type": "code",
      "metadata": {
        "deletable": false,
        "editable": false,
        "nbgrader": {
          "cell_type": "code",
          "checksum": "c3bf50501352096f22c673e3f781ca93",
          "grade": false,
          "grade_id": "cell-68be8d91fe7fd3dd",
          "locked": true,
          "schema_version": 3,
          "solution": false,
          "task": false
        },
        "id": "N920OFJAf27K"
      },
      "source": [
        "# Import Necessary Libraries\n",
        "import numpy as np\n",
        "import itertools\n",
        "import matplotlib.pyplot as plt\n",
        "import tiles3 as tc\n",
        "from rl_glue import RLGlue\n",
        "from agent import BaseAgent\n",
        "from utils import argmax\n",
        "import mountaincar_env\n",
        "import time"
      ],
      "execution_count": 2,
      "outputs": []
    },
    {
      "cell_type": "markdown",
      "metadata": {
        "deletable": false,
        "editable": false,
        "nbgrader": {
          "cell_type": "markdown",
          "checksum": "2197641d6402383eb671432ec4de8822",
          "grade": false,
          "grade_id": "cell-631c7b26d3b5c04b",
          "locked": true,
          "schema_version": 3,
          "solution": false,
          "task": false
        },
        "id": "mDaZeAAHf27O"
      },
      "source": [
        "In the above cell, we import the libraries we need for this assignment. You may have noticed that we import mountaincar_env. This is the __Mountain Car Task__ introduced in [Section 10.1 of the textbook](http://www.incompleteideas.net/book/RLbook2018.pdf#page=267). The task is for an under powered car to make it to the top of a hill:\n",
        "![Mountain Car](mountaincar.png \"Mountain Car\")\n",
        "The car is under-powered so the agent needs to learn to rock back and forth to get enough momentum to reach the goal. At each time step the agent receives from the environment its current velocity (a float between -0.07 and 0.07), and it's current position (a float between -1.2 and 0.5). Because our state is continuous there are a potentially infinite number of states that our agent could be in. We need a function approximation method to help the agent deal with this. In this notebook we will use tile coding. We provide a tile coding implementation for you to use, imported above with tiles3."
      ]
    },
    {
      "cell_type": "markdown",
      "metadata": {
        "deletable": false,
        "editable": false,
        "nbgrader": {
          "cell_type": "markdown",
          "checksum": "2e2e288fe7f1840098d7b6ada17f505e",
          "grade": false,
          "grade_id": "cell-bbe24ca993c1b297",
          "locked": true,
          "schema_version": 3,
          "solution": false,
          "task": false
        },
        "id": "j3fHI_21f27S"
      },
      "source": [
        "## Section 0: Tile Coding Helper Function"
      ]
    },
    {
      "cell_type": "markdown",
      "metadata": {
        "deletable": false,
        "editable": false,
        "nbgrader": {
          "cell_type": "markdown",
          "checksum": "104fa1489f8107d5d841e786c2fb27b0",
          "grade": false,
          "grade_id": "cell-00c3ac7f568f6166",
          "locked": true,
          "schema_version": 3,
          "solution": false,
          "task": false
        },
        "id": "pvNUAreRf27V"
      },
      "source": [
        "To begin we are going to build a tile coding class for our Sarsa agent that will make it easier to make calls to our tile coder."
      ]
    },
    {
      "cell_type": "markdown",
      "metadata": {
        "deletable": false,
        "editable": false,
        "nbgrader": {
          "cell_type": "markdown",
          "checksum": "6cd7184cfa3356edd1720b8fd51ed2c9",
          "grade": false,
          "grade_id": "cell-97d06568c071d9cc",
          "locked": true,
          "schema_version": 3,
          "solution": false,
          "task": false
        },
        "id": "xXMkLz7nf27X"
      },
      "source": [
        "### Tile Coding Function"
      ]
    },
    {
      "cell_type": "markdown",
      "metadata": {
        "deletable": false,
        "editable": false,
        "nbgrader": {
          "cell_type": "markdown",
          "checksum": "a88c06a2dc95f3c24dafc6896575fec7",
          "grade": false,
          "grade_id": "cell-cdfcd9285845ad67",
          "locked": true,
          "schema_version": 3,
          "solution": false,
          "task": false
        },
        "id": "Xq3ZYAlHf27Y"
      },
      "source": [
        "Tile coding is introduced in [Section 9.5.4 of the textbook](http://www.incompleteideas.net/book/RLbook2018.pdf#page=239) of the textbook as a way to create features that can both provide good generalization and discrimination. It consists of multiple overlapping tilings, where each tiling is a partitioning of the space into tiles.\n",
        "![Tile Coding](tilecoding.png \"Tile Coding\")"
      ]
    },
    {
      "cell_type": "markdown",
      "metadata": {
        "deletable": false,
        "editable": false,
        "nbgrader": {
          "cell_type": "markdown",
          "checksum": "fbbce233f230a1d8be56f3da3f9b74ea",
          "grade": false,
          "grade_id": "cell-a4b22741e31308d4",
          "locked": true,
          "schema_version": 3,
          "solution": false,
          "task": false
        },
        "id": "Wo6AEZGef27Z"
      },
      "source": [
        "To help keep our agent code clean we are going to make a function specific for tile coding for our Mountain Car environment. To help we are going to use the Tiles3 library. This is a Python 3 implementation of the tile coder. To start take a look at the documentation: [Tiles3 documentation](http://incompleteideas.net/tiles/tiles3.html)\n",
        "To get the tile coder working we need to implement a few pieces:\n",
        "- First: create an index hash table - this is done for you in the init function using tc.IHT.\n",
        "- Second is to scale the inputs for the tile coder based on the number of tiles and the range of values each input could take. The tile coder needs to take in a number in range [0, 1], or scaled to be [0, 1] * num_tiles. For more on this refer to the [Tiles3 documentation](http://incompleteideas.net/tiles/tiles3.html).\n",
        "- Finally we call tc.tiles to get the active tiles back."
      ]
    },
    {
      "cell_type": "code",
      "metadata": {
        "deletable": false,
        "nbgrader": {
          "cell_type": "code",
          "checksum": "1f9f621377db1b80790b2203fdf266a5",
          "grade": false,
          "grade_id": "cell-5d4b035fb7a71186",
          "locked": false,
          "schema_version": 3,
          "solution": true,
          "task": false
        },
        "id": "FQNjunK0f27b"
      },
      "source": [
        "# -----------\n",
        "# Graded Cell\n",
        "# -----------\n",
        "class MountainCarTileCoder:\n",
        "    def __init__(self, iht_size=4096, num_tilings=8, num_tiles=8):\n",
        "        \"\"\"\n",
        "        Initializes the MountainCar Tile Coder\n",
        "        Initializers:\n",
        "        iht_size -- int, the size of the index hash table, typically a power of 2\n",
        "        num_tilings -- int, the number of tilings\n",
        "        num_tiles -- int, the number of tiles. Here both the width and height of the\n",
        "                     tile coder are the same\n",
        "        Class Variables:\n",
        "        self.iht -- tc.IHT, the index hash table that the tile coder will use\n",
        "        self.num_tilings -- int, the number of tilings the tile coder will use\n",
        "        self.num_tiles -- int, the number of tiles the tile coder will use\n",
        "        \"\"\"\n",
        "        self.iht = tc.IHT(iht_size)\n",
        "        self.num_tilings = num_tilings\n",
        "        self.num_tiles = num_tiles\n",
        "    \n",
        "    def get_tiles(self, position, velocity):\n",
        "        \"\"\"\n",
        "        Takes in a position and velocity from the mountaincar environment\n",
        "        and returns a numpy array of active tiles.\n",
        "        \n",
        "        Arguments:\n",
        "        position -- float, the position of the agent between -1.2 and 0.5\n",
        "        velocity -- float, the velocity of the agent between -0.07 and 0.07\n",
        "        returns:\n",
        "        tiles - np.array, active tiles\n",
        "        \"\"\"\n",
        "        # Use the ranges above and self.num_tiles to scale position and velocity to the range [0, 1]\n",
        "        # then multiply that range with self.num_tiles so it scales from [0, num_tiles]\n",
        "        \n",
        "        pos_min = -1.2\n",
        "        pos_max = 0.5\n",
        "        vel_min = -0.07\n",
        "        vel_max = 0.07\n",
        "        position_scaled = 0\n",
        "        velocity_scaled = 0\n",
        "        \n",
        "        # ----------------\n",
        "        # your code here\n",
        "        position_scaled = (position - pos_min) / (pos_max - pos_min) * self.num_tiles\n",
        "        velocity_scaled = (velocity - vel_min) / (vel_max - vel_min) * self.num_tiles\n",
        "        # ----------------\n",
        "        \n",
        "        # get the tiles using tc.tiles, with self.iht, self.num_tilings and [scaled position, scaled velocity]\n",
        "        # nothing to implment here\n",
        "        tiles = tc.tiles(self.iht, self.num_tilings, [position_scaled, velocity_scaled])\n",
        "        \n",
        "        return np.array(tiles)"
      ],
      "execution_count": 3,
      "outputs": []
    },
    {
      "cell_type": "code",
      "metadata": {
        "deletable": false,
        "editable": false,
        "nbgrader": {
          "cell_type": "code",
          "checksum": "734698474359c7766846c7d26ffbaf67",
          "grade": true,
          "grade_id": "cell-beac2fa8ff1ef94e",
          "locked": true,
          "points": 10,
          "schema_version": 3,
          "solution": false,
          "task": false
        },
        "id": "9ViUrCZff27c"
      },
      "source": [
        "# -----------\n",
        "# Tested Cell\n",
        "# -----------\n",
        "# The contents of the cell will be tested by the autograder.\n",
        "# If they do not pass here, they will not pass there.\n",
        "\n",
        "# create a range of positions and velocities to test\n",
        "# then test every element in the cross-product between these lists\n",
        "pos_tests = np.linspace(-1.2, 0.5, num=5)\n",
        "vel_tests = np.linspace(-0.07, 0.07, num=5)\n",
        "tests = list(itertools.product(pos_tests, vel_tests))\n",
        "\n",
        "mctc = MountainCarTileCoder(iht_size=1024, num_tilings=8, num_tiles=2)\n",
        "\n",
        "t = []\n",
        "for test in tests:\n",
        "    position, velocity = test\n",
        "    tiles = mctc.get_tiles(position=position, velocity=velocity)\n",
        "    t.append(tiles)\n",
        "\n",
        "expected = [\n",
        "    [0, 1, 2, 3, 4, 5, 6, 7],\n",
        "    [0, 1, 8, 3, 9, 10, 6, 11],\n",
        "    [12, 13, 8, 14, 9, 10, 15, 11],\n",
        "    [12, 13, 16, 14, 17, 18, 15, 19],\n",
        "    [20, 21, 16, 22, 17, 18, 23, 19],\n",
        "    [0, 1, 2, 3, 24, 25, 26, 27],\n",
        "    [0, 1, 8, 3, 28, 29, 26, 30],\n",
        "    [12, 13, 8, 14, 28, 29, 31, 30],\n",
        "    [12, 13, 16, 14, 32, 33, 31, 34],\n",
        "    [20, 21, 16, 22, 32, 33, 35, 34],\n",
        "    [36, 37, 38, 39, 24, 25, 26, 27],\n",
        "    [36, 37, 40, 39, 28, 29, 26, 30],\n",
        "    [41, 42, 40, 43, 28, 29, 31, 30],\n",
        "    [41, 42, 44, 43, 32, 33, 31, 34],\n",
        "    [45, 46, 44, 47, 32, 33, 35, 34],\n",
        "    [36, 37, 38, 39, 48, 49, 50, 51],\n",
        "    [36, 37, 40, 39, 52, 53, 50, 54],\n",
        "    [41, 42, 40, 43, 52, 53, 55, 54],\n",
        "    [41, 42, 44, 43, 56, 57, 55, 58],\n",
        "    [45, 46, 44, 47, 56, 57, 59, 58],\n",
        "    [60, 61, 62, 63, 48, 49, 50, 51],\n",
        "    [60, 61, 64, 63, 52, 53, 50, 54],\n",
        "    [65, 66, 64, 67, 52, 53, 55, 54],\n",
        "    [65, 66, 68, 67, 56, 57, 55, 58],\n",
        "    [69, 70, 68, 71, 56, 57, 59, 58],\n",
        "]\n",
        "assert np.all(expected == np.array(t))"
      ],
      "execution_count": 4,
      "outputs": []
    },
    {
      "cell_type": "markdown",
      "metadata": {
        "deletable": false,
        "editable": false,
        "nbgrader": {
          "cell_type": "markdown",
          "checksum": "089f4dcbbff9c5efec3476ee8e8ba1c9",
          "grade": false,
          "grade_id": "cell-5191224461a0f3b5",
          "locked": true,
          "schema_version": 3,
          "solution": false,
          "task": false
        },
        "id": "XJukSiZbf27e"
      },
      "source": [
        "## Section 1: Sarsa Agent"
      ]
    },
    {
      "cell_type": "markdown",
      "metadata": {
        "deletable": false,
        "editable": false,
        "nbgrader": {
          "cell_type": "markdown",
          "checksum": "f0c661efa74205b51539471c4285118a",
          "grade": false,
          "grade_id": "cell-5db2a3c6722ea91c",
          "locked": true,
          "schema_version": 3,
          "solution": false,
          "task": false
        },
        "id": "e-yPGZdpf27f"
      },
      "source": [
        "We are now going to use the functions that we just created to implement the Sarsa algorithm. Recall from class that Sarsa stands for State, Action, Reward, State, Action.\n",
        "\n",
        "For this case we have given you an argmax function similar to what you wrote back in Course 1 Assignment 1. Recall, this is different than the argmax function that is used by numpy, which returns the first index of a maximum value. We want our argmax function to arbitrarily break ties, which is what the imported argmax function does. The given argmax function takes in an array of values and returns an int of the chosen action: \n",
        "argmax(action values)\n",
        "\n",
        "There are multiple ways that we can deal with actions for the tile coder. Here we are going to use one simple method - make the size of the weight vector equal to (iht_size, num_actions). This will give us one weight vector for each action and one weight for each tile.\n",
        "\n",
        "Use the above function to help fill in select_action, agent_start, agent_step, and agent_end.\n",
        "\n",
        "Hints:\n",
        "\n",
        "1) The tile coder returns a list of active indexes (e.g. [1, 12, 22]). You can index a numpy array using an array of values - this will return an array of the values at each of those indices. So in order to get the value of a state we can index our weight vector using the action and the array of tiles that the tile coder returns:\n",
        "\n",
        "```self.w[action][active_tiles]```\n",
        "\n",
        "This will give us an array of values, one for each active tile, and we sum the result to get the value of that state-action pair.\n",
        "\n",
        "2) In the case of a binary feature vector (such as the tile coder), the derivative is 1 at each of the active tiles, and zero otherwise."
      ]
    },
    {
      "cell_type": "code",
      "metadata": {
        "deletable": false,
        "nbgrader": {
          "cell_type": "code",
          "checksum": "c1dd6c5e729fc638934b67090e2c92a0",
          "grade": false,
          "grade_id": "cell-50303440b2e9be74",
          "locked": false,
          "schema_version": 3,
          "solution": true,
          "task": false
        },
        "id": "vOxTh5syf27h"
      },
      "source": [
        "# -----------\n",
        "# Graded Cell\n",
        "# -----------\n",
        "class SarsaAgent(BaseAgent):\n",
        "    \"\"\"\n",
        "    Initialization of Sarsa Agent. All values are set to None so they can\n",
        "    be initialized in the agent_init method.\n",
        "    \"\"\"\n",
        "    def __init__(self):\n",
        "        self.last_action = None\n",
        "        self.last_state = None\n",
        "        self.epsilon = None\n",
        "        self.gamma = None\n",
        "        self.iht_size = None\n",
        "        self.w = None\n",
        "        self.alpha = None\n",
        "        self.num_tilings = None\n",
        "        self.num_tiles = None\n",
        "        self.mctc = None\n",
        "        self.initial_weights = None\n",
        "        self.num_actions = None\n",
        "        self.previous_tiles = None\n",
        "\n",
        "    def agent_init(self, agent_info={}):\n",
        "        \"\"\"Setup for the agent called when the experiment first starts.\"\"\"\n",
        "        self.num_tilings = agent_info.get(\"num_tilings\", 8)\n",
        "        self.num_tiles = agent_info.get(\"num_tiles\", 8)\n",
        "        self.iht_size = agent_info.get(\"iht_size\", 4096)\n",
        "        self.epsilon = agent_info.get(\"epsilon\", 0.0)\n",
        "        self.gamma = agent_info.get(\"gamma\", 1.0)\n",
        "        self.alpha = agent_info.get(\"alpha\", 0.5) / self.num_tilings\n",
        "        self.initial_weights = agent_info.get(\"initial_weights\", 0.0)\n",
        "        self.num_actions = agent_info.get(\"num_actions\", 3)\n",
        "        \n",
        "        # We initialize self.w to three times the iht_size. Recall this is because\n",
        "        # we need to have one set of weights for each action.\n",
        "        self.w = np.ones((self.num_actions, self.iht_size)) * self.initial_weights\n",
        "        \n",
        "        # We initialize self.mctc to the mountaincar verions of the \n",
        "        # tile coder that we created\n",
        "        self.tc = MountainCarTileCoder(iht_size=self.iht_size, \n",
        "                                         num_tilings=self.num_tilings, \n",
        "                                         num_tiles=self.num_tiles)\n",
        "\n",
        "    def select_action(self, tiles):\n",
        "        \"\"\"\n",
        "        Selects an action using epsilon greedy\n",
        "        Args:\n",
        "        tiles - np.array, an array of active tiles\n",
        "        Returns:\n",
        "        (chosen_action, action_value) - (int, float), tuple of the chosen action\n",
        "                                        and it's value\n",
        "        \"\"\"\n",
        "        action_values = []\n",
        "        chosen_action = None\n",
        "        \n",
        "        # First loop through the weights of each action and populate action_values\n",
        "        # with the action value for each action and tiles instance\n",
        "        \n",
        "        # Use np.random.random to decide if an exploritory action should be taken\n",
        "        # and set chosen_action to a random action if it is\n",
        "        # Otherwise choose the greedy action using the given argmax \n",
        "        # function and the action values (don't use numpy's armax)\n",
        "        \n",
        "        # ----------------\n",
        "        # your code here\n",
        "        action_values = [sum(self.w[a][tiles]) for a in range(self.num_actions)]\n",
        "\n",
        "        if np.random.random() <= self.epsilon:\n",
        "            # Exploratory action\n",
        "            chosen_action = np.random.choice(self.num_actions)\n",
        "        else:\n",
        "            # Exploitative action\n",
        "            chosen_action = argmax(action_values)\n",
        "        # ----------------\n",
        "\n",
        "        return chosen_action, action_values[chosen_action]\n",
        "    \n",
        "    def agent_start(self, state):\n",
        "        \"\"\"The first method called when the experiment starts, called after\n",
        "        the environment starts.\n",
        "        Args:\n",
        "            state (Numpy array): the state observation from the\n",
        "                environment's evn_start function.\n",
        "        Returns:\n",
        "            The first action the agent takes.\n",
        "        \"\"\"\n",
        "        position, velocity = state\n",
        "        \n",
        "        # Use self.tc to set active_tiles using position and velocity\n",
        "        # set current_action to the epsilon greedy chosen action using\n",
        "        # the select_action function above with the active tiles\n",
        "        \n",
        "        # ----------------\n",
        "        # your code here\n",
        "        active_tiles = self.tc.get_tiles(position, velocity)\n",
        "        current_action, _ = self.select_action(active_tiles)\n",
        "        # ----------------\n",
        "        \n",
        "        self.last_action = current_action\n",
        "        self.previous_tiles = np.copy(active_tiles)\n",
        "        return self.last_action\n",
        "\n",
        "    def agent_step(self, reward, state):\n",
        "        \"\"\"A step taken by the agent.\n",
        "        Args:\n",
        "            reward (float): the reward received for taking the last action taken\n",
        "            state (Numpy array): the state observation from the\n",
        "                environment's step based, where the agent ended up after the\n",
        "                last step\n",
        "        Returns:\n",
        "            The action the agent is taking.\n",
        "        \"\"\"\n",
        "        # choose the action here\n",
        "        position, velocity = state\n",
        "        \n",
        "        # Use self.tc to set active_tiles using position and velocity\n",
        "        # set current_action and action_value to the epsilon greedy chosen action using\n",
        "        # the select_action function above with the active tiles\n",
        "        \n",
        "        # Update self.w at self.previous_tiles and self.previous action\n",
        "        # using the reward, action_value, self.gamma, self.w,\n",
        "        # self.alpha, and the Sarsa update from the textbook\n",
        "        \n",
        "        # ----------------\n",
        "        # your code here\n",
        "        active_tiles = self.tc.get_tiles(position, velocity)\n",
        "        current_action, action_value = self.select_action(active_tiles)\n",
        "\n",
        "        update_target = reward + self.gamma * action_value - sum(self.w[self.last_action][self.previous_tiles])\n",
        "        self.w[self.last_action][self.previous_tiles] += self.alpha * update_target\n",
        "        # ----------------\n",
        "        \n",
        "        self.last_action = current_action\n",
        "        self.previous_tiles = np.copy(active_tiles)\n",
        "        return self.last_action\n",
        "\n",
        "    def agent_end(self, reward):\n",
        "        \"\"\"Run when the agent terminates.\n",
        "        Args:\n",
        "            reward (float): the reward the agent received for entering the\n",
        "                terminal state.\n",
        "        \"\"\"\n",
        "        # Update self.w at self.previous_tiles and self.previous action\n",
        "        # using the reward, self.gamma, self.w,\n",
        "        # self.alpha, and the Sarsa update from the textbook\n",
        "        # Hint - there is no action_value used here because this is the end\n",
        "        # of the episode.\n",
        "        \n",
        "        # ----------------\n",
        "        # your code here\n",
        "        update_target = reward - sum(self.w[self.last_action][self.previous_tiles])\n",
        "        self.w[self.last_action][self.previous_tiles] += self.alpha * update_target\n",
        "        # ----------------\n",
        "        \n",
        "    def agent_cleanup(self):\n",
        "        \"\"\"Cleanup done after the agent ends.\"\"\"\n",
        "        pass\n",
        "\n",
        "    def agent_message(self, message):\n",
        "        \"\"\"A function used to pass information from the agent to the experiment.\n",
        "        Args:\n",
        "            message: The message passed to the agent.\n",
        "        Returns:\n",
        "            The response (or answer) to the message.\n",
        "        \"\"\"\n",
        "        pass"
      ],
      "execution_count": 10,
      "outputs": []
    },
    {
      "cell_type": "code",
      "metadata": {
        "deletable": false,
        "editable": false,
        "nbgrader": {
          "cell_type": "code",
          "checksum": "692ac428d5e59bae3f74450657877a50",
          "grade": true,
          "grade_id": "cell-0cf3e9c19ac6be06",
          "locked": true,
          "points": 5,
          "schema_version": 3,
          "solution": false,
          "task": false
        },
        "id": "ZHf9WHkYf27n",
        "colab": {
          "base_uri": "https://localhost:8080/"
        },
        "outputId": "845a5c02-db90-4971-f6cb-8273aa0238e4"
      },
      "source": [
        "# -----------\n",
        "# Tested Cell\n",
        "# -----------\n",
        "# The contents of the cell will be tested by the autograder.\n",
        "# If they do not pass here, they will not pass there.\n",
        "\n",
        "np.random.seed(0)\n",
        "\n",
        "agent = SarsaAgent()\n",
        "agent.agent_init({\"epsilon\": 0.1})\n",
        "agent.w = np.array([np.array([1, 2, 3]), np.array([4, 5, 6]), np.array([7, 8, 9])])\n",
        "\n",
        "action_distribution = np.zeros(3)\n",
        "for i in range(1000):\n",
        "    chosen_action, action_value = agent.select_action(np.array([0,1]))\n",
        "    action_distribution[chosen_action] += 1\n",
        "    \n",
        "print(\"action distribution:\", action_distribution)\n",
        "# notice that the two non-greedy actions are roughly uniformly distributed\n",
        "assert np.all(action_distribution == [29, 35, 936])\n",
        "\n",
        "agent = SarsaAgent()\n",
        "agent.agent_init({\"epsilon\": 0.0})\n",
        "agent.w = np.array([[1, 2, 3], [4, 5, 6], [7, 8, 9]])\n",
        "\n",
        "chosen_action, action_value = agent.select_action([0, 1])\n",
        "assert chosen_action == 2\n",
        "assert action_value == 15\n",
        "\n",
        "# -----------\n",
        "# test update\n",
        "# -----------\n",
        "agent = SarsaAgent()\n",
        "agent.agent_init({\"epsilon\": 0.1})\n",
        "\n",
        "agent.agent_start((0.1, 0.3))\n",
        "agent.agent_step(1, (0.02, 0.1))\n",
        "\n",
        "assert np.all(agent.w[0,0:8] == 0.0625)\n",
        "assert np.all(agent.w[1:] == 0)"
      ],
      "execution_count": 11,
      "outputs": [
        {
          "output_type": "stream",
          "text": [
            "action distribution: [ 29.  35. 936.]\n"
          ],
          "name": "stdout"
        }
      ]
    },
    {
      "cell_type": "code",
      "metadata": {
        "deletable": false,
        "editable": false,
        "nbgrader": {
          "cell_type": "code",
          "checksum": "31da193410fe9153637b4e5043c81176",
          "grade": true,
          "grade_id": "cell-5e2a49e089992132",
          "locked": true,
          "points": 25,
          "schema_version": 3,
          "solution": false,
          "task": false
        },
        "id": "uPfBS-Z3f27p",
        "colab": {
          "base_uri": "https://localhost:8080/",
          "height": 321
        },
        "outputId": "e1ffc52d-0a68-4de0-944f-e11cd5834625"
      },
      "source": [
        "# -----------\n",
        "# Tested Cell\n",
        "# -----------\n",
        "# The contents of the cell will be tested by the autograder.\n",
        "# If they do not pass here, they will not pass there.\n",
        "\n",
        "np.random.seed(0)\n",
        "\n",
        "num_runs = 10\n",
        "num_episodes = 50\n",
        "env_info = {\"num_tiles\": 8, \"num_tilings\": 8}\n",
        "agent_info = {}\n",
        "all_steps = []\n",
        "\n",
        "agent = SarsaAgent\n",
        "env = mountaincar_env.Environment\n",
        "start = time.time()\n",
        "\n",
        "for run in range(num_runs):\n",
        "    if run % 5 == 0:\n",
        "        print(\"RUN: {}\".format(run))\n",
        "\n",
        "    rl_glue = RLGlue(env, agent)\n",
        "    rl_glue.rl_init(agent_info, env_info)\n",
        "    steps_per_episode = []\n",
        "\n",
        "    for episode in range(num_episodes):\n",
        "        rl_glue.rl_episode(15000)\n",
        "        steps_per_episode.append(rl_glue.num_steps)\n",
        "\n",
        "    all_steps.append(np.array(steps_per_episode))\n",
        "\n",
        "print(\"Run time: {}\".format(time.time() - start))\n",
        "\n",
        "mean = np.mean(all_steps, axis=0)\n",
        "plt.plot(mean)\n",
        "\n",
        "# because we set the random seed, these values should be *exactly* the same\n",
        "assert np.allclose(mean, [1432.5, 837.9, 694.4, 571.4, 515.2, 380.6, 379.4, 369.6, 357.2, 316.5, 291.1, 305.3, 250.1, 264.9, 235.4, 242.1, 244.4, 245., 221.2, 229., 238.3, 211.2, 201.1, 208.3, 185.3, 207.1, 191.6, 204., 214.5, 207.9, 195.9, 206.4, 194.9, 191.1, 195., 186.6, 171., 177.8, 171.1, 174., 177.1, 174.5, 156.9, 174.3, 164.1, 179.3, 167.4, 156.1, 158.4, 154.4])"
      ],
      "execution_count": 12,
      "outputs": [
        {
          "output_type": "stream",
          "text": [
            "RUN: 0\n",
            "RUN: 5\n",
            "Run time: 16.55506467819214\n"
          ],
          "name": "stdout"
        },
        {
          "output_type": "display_data",
          "data": {
            "image/png": "[encoded data removed]",
            "text/plain": [
              "<Figure size 432x288 with 1 Axes>"
            ]
          },
          "metadata": {
            "tags": [],
            "needs_background": "light"
          }
        }
      ]
    },
    {
      "cell_type": "markdown",
      "metadata": {
        "deletable": false,
        "editable": false,
        "nbgrader": {
          "cell_type": "markdown",
          "checksum": "1decba9ad1d71bdd4a835f9ae46378dd",
          "grade": false,
          "grade_id": "cell-8178ac2e12418ca5",
          "locked": true,
          "schema_version": 3,
          "solution": false,
          "task": false
        },
        "id": "I388ImAof27t"
      },
      "source": [
        "The learning rate of your agent should look similar to ours, though it will not look exactly the same.If there are some spikey points that is okay. Due to stochasticity,  a few episodes may have taken much longer, causing some spikes in the plot. The trend of the line should be similar, though, generally decreasing to about 200 steps per run.\n",
        "![alt text](sarsa_agent_initial.png \"Logo Title Text 1\")"
      ]
    },
    {
      "cell_type": "markdown",
      "metadata": {
        "deletable": false,
        "editable": false,
        "nbgrader": {
          "cell_type": "markdown",
          "checksum": "6fbb20239a03855fc6a21a05fbf1ddf5",
          "grade": false,
          "grade_id": "cell-f395294510618c9b",
          "locked": true,
          "schema_version": 3,
          "solution": false,
          "task": false
        },
        "id": "fSfEIyatf27u"
      },
      "source": [
        "This result was using 8 tilings with 8x8 tiles on each. Let's see if we can do better, and what different tilings look like. We will also text 2 tilings of 16x16 and 4 tilings of 32x32. These three choices produce the same number of features (512), but distributed quite differently. "
      ]
    },
    {
      "cell_type": "code",
      "metadata": {
        "deletable": false,
        "editable": false,
        "nbgrader": {
          "cell_type": "code",
          "checksum": "80a5fffe28f2e72b4745e265bbd276a7",
          "grade": false,
          "grade_id": "cell-f608c2e9a0d94727",
          "locked": true,
          "schema_version": 3,
          "solution": false,
          "task": false
        },
        "id": "5nin7PkMf27v",
        "colab": {
          "base_uri": "https://localhost:8080/",
          "height": 1000
        },
        "outputId": "a8191231-7479-4742-dcbd-cdf063d4698b"
      },
      "source": [
        "# ---------------\n",
        "# Discussion Cell\n",
        "# ---------------\n",
        "\n",
        "np.random.seed(0)\n",
        "\n",
        "# Compare the three\n",
        "num_runs = 20\n",
        "num_episodes = 100\n",
        "env_info = {}\n",
        "\n",
        "agent_runs = []\n",
        "# alphas = [0.2, 0.4, 0.5, 1.0]\n",
        "alphas = [0.5]\n",
        "agent_info_options = [{\"num_tiles\": 16, \"num_tilings\": 2, \"alpha\": 0.5},\n",
        "                      {\"num_tiles\": 4, \"num_tilings\": 32, \"alpha\": 0.5},\n",
        "                      {\"num_tiles\": 8, \"num_tilings\": 8, \"alpha\": 0.5}]\n",
        "agent_info_options = [{\"num_tiles\" : agent[\"num_tiles\"], \n",
        "                       \"num_tilings\": agent[\"num_tilings\"],\n",
        "                       \"alpha\" : alpha} for agent in agent_info_options for alpha in alphas]\n",
        "\n",
        "agent = SarsaAgent\n",
        "env = mountaincar_env.Environment\n",
        "for agent_info in agent_info_options:\n",
        "    all_steps = []\n",
        "    start = time.time()\n",
        "    for run in range(num_runs):\n",
        "        if run % 5 == 0:\n",
        "            print(\"RUN: {}\".format(run))\n",
        "        env = mountaincar_env.Environment\n",
        "        \n",
        "        rl_glue = RLGlue(env, agent)\n",
        "        rl_glue.rl_init(agent_info, env_info)\n",
        "        steps_per_episode = []\n",
        "\n",
        "        for episode in range(num_episodes):\n",
        "            rl_glue.rl_episode(15000)\n",
        "            steps_per_episode.append(rl_glue.num_steps)\n",
        "        all_steps.append(np.array(steps_per_episode))\n",
        "    \n",
        "    agent_runs.append(np.mean(np.array(all_steps), axis=0))\n",
        "    print(\"stepsize:\", rl_glue.agent.alpha)\n",
        "    print(\"Run Time: {}\".format(time.time() - start))\n",
        "\n",
        "plt.figure(figsize=(15, 10), dpi= 80, facecolor='w', edgecolor='k')\n",
        "plt.plot(np.array(agent_runs).T)\n",
        "plt.xlabel(\"Episode\")\n",
        "plt.ylabel(\"Steps Per Episode\")\n",
        "plt.yscale(\"linear\")\n",
        "plt.ylim(0, 1000)\n",
        "plt.legend([\"num_tiles: {}, num_tilings: {}, alpha: {}\".format(agent_info[\"num_tiles\"], \n",
        "                                                               agent_info[\"num_tilings\"],\n",
        "                                                               agent_info[\"alpha\"])\n",
        "            for agent_info in agent_info_options])"
      ],
      "execution_count": 13,
      "outputs": [
        {
          "output_type": "stream",
          "text": [
            "RUN: 0\n",
            "RUN: 5\n",
            "RUN: 10\n",
            "RUN: 15\n",
            "stepsize: 0.25\n",
            "Run Time: 82.08272337913513\n",
            "RUN: 0\n",
            "RUN: 5\n",
            "RUN: 10\n",
            "RUN: 15\n",
            "stepsize: 0.015625\n",
            "Run Time: 54.64011335372925\n",
            "RUN: 0\n",
            "RUN: 5\n",
            "RUN: 10\n",
            "RUN: 15\n",
            "stepsize: 0.0625\n",
            "Run Time: 50.02704167366028\n"
          ],
          "name": "stdout"
        },
        {
          "output_type": "execute_result",
          "data": {
            "text/plain": [
              "<matplotlib.legend.Legend at 0x7f1f4393e610>"
            ]
          },
          "metadata": {
            "tags": []
          },
          "execution_count": 13
        },
        {
          "output_type": "display_data",
          "data": {
            "image/png": "[encoded data removed]",
            "text/plain": [
              "<Figure size 1200x800 with 1 Axes>"
            ]
          },
          "metadata": {
            "tags": []
          }
        }
      ]
    },
    {
      "cell_type": "markdown",
      "metadata": {
        "deletable": false,
        "editable": false,
        "nbgrader": {
          "cell_type": "markdown",
          "checksum": "bd4932e9dfc12e055b297632bd3e55a5",
          "grade": false,
          "grade_id": "cell-a9d6014459310d14",
          "locked": true,
          "schema_version": 3,
          "solution": false,
          "task": false
        },
        "id": "iAsp5ZB6f27w"
      },
      "source": [
        "Here we can see that using 32 tilings and 4 x 4 tiles does a little better than 8 tilings with 8x8 tiles. Both seem to do much better than using 2 tilings, with 16 x 16 tiles."
      ]
    },
    {
      "cell_type": "markdown",
      "metadata": {
        "deletable": false,
        "editable": false,
        "nbgrader": {
          "cell_type": "markdown",
          "checksum": "8bfe024cdf651a451f5be7e3e8df8325",
          "grade": false,
          "grade_id": "cell-b583918603d6925b",
          "locked": true,
          "schema_version": 3,
          "solution": false,
          "task": false
        },
        "id": "khIzg11Hf27y"
      },
      "source": [
        "## Section 3: Conclusion"
      ]
    },
    {
      "cell_type": "markdown",
      "metadata": {
        "deletable": false,
        "editable": false,
        "nbgrader": {
          "cell_type": "markdown",
          "checksum": "5b7683cc73139dd200ecf0dd1c2b6f4e",
          "grade": false,
          "grade_id": "cell-d15725ba24684800",
          "locked": true,
          "schema_version": 3,
          "solution": false,
          "task": false
        },
        "id": "iFh5Qaegf27z"
      },
      "source": [
        "Congratulations! You have learned how to implement a control agent using function approximation. In this notebook you learned how to:\n",
        "\n",
        "- Use function approximation in the control setting\n",
        "- Implement the Sarsa algorithm using tile coding\n",
        "- Compare three settings for tile coding to see their effect on our agent"
      ]
    }
  ]
}